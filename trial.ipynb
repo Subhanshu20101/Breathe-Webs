{
 "cells": [
  {
   "cell_type": "code",
   "execution_count": 1,
   "metadata": {},
   "outputs": [
    {
     "name": "stdout",
     "output_type": "stream",
     "text": [
      "Usage: flask [OPTIONS] COMMAND [ARGS]...\n",
      "\n",
      "  A general utility script for Flask applications.\n",
      "\n",
      "  Provides commands from Flask, extensions, and the application. Loads the\n",
      "  application defined in the FLASK_APP environment variable, or from a wsgi.py\n",
      "  file. Setting the FLASK_ENV environment variable to 'development' will\n",
      "  enable debug mode.\n",
      "\n",
      "    > set FLASK_APP=hello.py\n",
      "    > set FLASK_ENV=development\n",
      "    > flask run\n",
      "\n",
      "Options:\n",
      "  --version  Show the flask version\n",
      "  --help     Show this message and exit.\n",
      "\n",
      "Commands:\n",
      "  routes  Show the routes for the app.\n",
      "  run     Run a development server.\n",
      "  shell   Run a shell in the app context.\n"
     ]
    },
    {
     "name": "stderr",
     "output_type": "stream",
     "text": [
      "Traceback (most recent call last):\n",
      "  File \"C:\\Users\\rocks\\anaconda3\\lib\\site-packages\\flask\\cli.py\", line 240, in locate_app\n",
      "    __import__(module_name)\n",
      "  File \"C:\\Users\\rocks\\Downloads\\BreaTHE-main\\BreaTHE-main\\website\\app.py\", line 3, in <module>\n",
      "    import tensorflow as tf\n",
      "ModuleNotFoundError: No module named 'tensorflow'\n",
      "\n",
      "During handling of the above exception, another exception occurred:\n",
      "\n",
      "Traceback (most recent call last):\n",
      "  File \"C:\\Users\\rocks\\anaconda3\\lib\\site-packages\\flask\\cli.py\", line 556, in list_commands\n",
      "    rv.update(info.load_app().cli.list_commands(ctx))\n",
      "  File \"C:\\Users\\rocks\\anaconda3\\lib\\site-packages\\flask\\cli.py\", line 392, in load_app\n",
      "    app = locate_app(self, import_name, None, raise_if_not_found=False)\n",
      "  File \"C:\\Users\\rocks\\anaconda3\\lib\\site-packages\\flask\\cli.py\", line 245, in locate_app\n",
      "    raise NoAppException(\n",
      "flask.cli.NoAppException: While importing \"app\", an ImportError was raised:\n",
      "\n",
      "Traceback (most recent call last):\n",
      "  File \"C:\\Users\\rocks\\anaconda3\\lib\\site-packages\\flask\\cli.py\", line 240, in locate_app\n",
      "    __import__(module_name)\n",
      "  File \"C:\\Users\\rocks\\Downloads\\BreaTHE-main\\BreaTHE-main\\website\\app.py\", line 3, in <module>\n",
      "    import tensorflow as tf\n",
      "ModuleNotFoundError: No module named 'tensorflow'\n",
      "\n"
     ]
    }
   ],
   "source": [
    "!flask\n"
   ]
  },
  {
   "cell_type": "code",
   "execution_count": null,
   "metadata": {},
   "outputs": [],
   "source": []
  }
 ],
 "metadata": {
  "kernelspec": {
   "display_name": "iiitd",
   "language": "python",
   "name": "python3"
  },
  "language_info": {
   "codemirror_mode": {
    "name": "ipython",
    "version": 3
   },
   "file_extension": ".py",
   "mimetype": "text/x-python",
   "name": "python",
   "nbconvert_exporter": "python",
   "pygments_lexer": "ipython3",
   "version": "3.11.3"
  }
 },
 "nbformat": 4,
 "nbformat_minor": 2
}
